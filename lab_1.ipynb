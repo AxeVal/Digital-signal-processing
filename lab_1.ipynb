from scipy.integrate import quad
import matplotlib.pyplot as plt
import numpy as np
import math
