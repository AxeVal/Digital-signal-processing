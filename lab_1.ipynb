from scipy.integrate import quad
import matplotlib.pyplot as plt
import numpy as np
import math
nw = 1


def func1(t, A=2): 
    if t % 2 < 1:
        return A/2
    return -A/2

func = func1

def my_cos(xi):
    global nw
    return func(xi) * math.cos(nw * xi)

def my_sin(xi):
    global nw
    return func(xi) * math.sin(nw * xi)


def a_n(t0, n, T=2):
  w= 2*math.pi/T
  an = (2/T) * quad(my_cos, t0, t0+T)[0]
  return an

def b_n(t0, n, T=2):
  bn= (2/T) * quad(my_sin, t0, t0+T)[0]
  return bn


def Furie(t0, T=2):
  global nw
  a0 = (2/T) * quad(func, t0, t0+T)[0]
  sm = a0/2
  for n in np.arange(1, 10):
    nw = 2 * n * math.pi / T
    an = a_n(t0, n) * math.cos(nw*t0)
    bn = b_n(t0, n) * math.sin(nw*t0)
    sm += an + bn
  return sm
t = np.arange(-4, 4, 0.01)
f = [func(ti)  for ti in t]  # func
F = [Furie(ti) for ti in t]  # Furie

plt.plot(t, F)
plt.plot(t, f)
plt.show
err = [Fi-fi for Fi, fi in zip(F, f)]
plt.plot(t, err)
plt.show
fig = plt.figure(figsize=(16, 14))

A = 2
f = 100
w = 2 * math.pi * f

tt = np.arange(-0.025, 0.025, 0.0001)
Acos_wt = A * np.cos(w*tt)

# Acos_wt_T = Acos_wt[0: 100]

spectr = np.fft.fft(Acos_wt_T)

plt.subplot(221)
plt.plot(tt, Acos_wt)

plt.subplot(222)
plt.plot(abs(spectr))
plt.show()
spectr = np.fft.fft(Acos_wt_T)
a = np.fft.ifft(spectr)
plt.plot(a)
plt.show
fig = plt.figure(figsize=(16, 14))

noise = np.random.normal(0, 1, Acos_wt.shape)
s = noise + Acos_wt
plt.subplot(221)
plt.plot(tt, s)

abc = np.fft.fft(s)
plt.subplot(222)
plt.plot(tt, abs(abc))
plt.show
